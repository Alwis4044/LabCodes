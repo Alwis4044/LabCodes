{
 "cells": [
  {
   "cell_type": "markdown",
   "id": "1d9abc0b",
   "metadata": {},
   "source": [
    "# Assignment 3"
   ]
  },
  {
   "cell_type": "markdown",
   "id": "ff365614",
   "metadata": {},
   "source": [
    "## Compare the results of any three edge detection algorithms on the same image dataset and do the analysis of the result."
   ]
  },
  {
   "cell_type": "code",
   "execution_count": 1,
   "id": "89732ed7",
   "metadata": {},
   "outputs": [
    {
     "name": "stdout",
     "output_type": "stream",
     "text": [
      "Requirement already satisfied: opencv-python in c:\\users\\alwin\\anaconda3\\lib\\site-packages (4.6.0.66)\n",
      "Requirement already satisfied: numpy>=1.19.3 in c:\\users\\alwin\\anaconda3\\lib\\site-packages (from opencv-python) (1.23.5)\n",
      "Note: you may need to restart the kernel to use updated packages.\n"
     ]
    }
   ],
   "source": [
    "pip install opencv-python"
   ]
  },
  {
   "cell_type": "code",
   "execution_count": 2,
   "id": "2df33db0",
   "metadata": {},
   "outputs": [
    {
     "data": {
      "text/plain": [
       "-1"
      ]
     },
     "execution_count": 2,
     "metadata": {},
     "output_type": "execute_result"
    }
   ],
   "source": [
    "import numpy as np\n",
    "import cv2\n",
    "\n",
    "image_path = 'bird_image.jpeg'\n",
    "\n",
    "image = cv2.imread(image_path)\n",
    "\n",
    "window_image = 'image'\n",
    "cv2.imshow(window_image,image)\n",
    "cv2.waitKey()"
   ]
  },
  {
   "cell_type": "markdown",
   "id": "a35a6306",
   "metadata": {},
   "source": [
    "## 1) Sobel Operator edge detection algorithm:"
   ]
  },
  {
   "cell_type": "code",
   "execution_count": 4,
   "id": "846a9dbc",
   "metadata": {},
   "outputs": [
    {
     "data": {
      "text/plain": [
       "-1"
      ]
     },
     "execution_count": 4,
     "metadata": {},
     "output_type": "execute_result"
    }
   ],
   "source": [
    "# Convert the image to grayscale\n",
    "gray = cv2.cvtColor(image, cv2.COLOR_BGR2GRAY)\n",
    "\n",
    "# Apply the Sobel operator to find the x and y gradients of the image\n",
    "sobel_x = cv2.Sobel(gray, cv2.CV_64F, 1, 0, ksize = 3)\n",
    "sobel_y = cv2.Sobel(gray, cv2.CV_64F, 0, 1, ksize = 3)\n",
    "\n",
    "# Calculate the magnitude and the angle of the gradients\n",
    "magnitude = np.sqrt(sobel_x**2 + sobel_y**2)\n",
    "angle = np.arctan2(sobel_y, sobel_x)\n",
    "\n",
    "# Normalize the magnitude to the range [0. 255]\n",
    "magnitude = (magnitude / np.max(magnitude) * 255).astype(np.uint8)\n",
    "\n",
    "# Create a binary image based on the gradient magnitudes\n",
    "ret, binary_image = cv2.threshold(magnitude, 50 , 255, cv2.THRESH_BINARY)\n",
    "\n",
    "window_image = 'image1'\n",
    "cv2.imshow(window_image,image)\n",
    "cv2.waitKey()\n",
    "\n",
    "window_image = 'binary_image'\n",
    "cv2.imshow(window_image,binary_image)\n",
    "cv2.waitKey()"
   ]
  },
  {
   "cell_type": "markdown",
   "id": "ace1efd1",
   "metadata": {},
   "source": [
    "## 2) Canny edge detection algorithm:"
   ]
  },
  {
   "cell_type": "code",
   "execution_count": 5,
   "id": "415b32c9",
   "metadata": {},
   "outputs": [
    {
     "data": {
      "text/plain": [
       "-1"
      ]
     },
     "execution_count": 5,
     "metadata": {},
     "output_type": "execute_result"
    }
   ],
   "source": [
    "# Apply Gaussian blur to reduce noise\n",
    "blurred = cv2.GaussianBlur(gray, (3, 3), 0)\n",
    "\n",
    "# Use the Canny edge detector to find the edges\n",
    "edges = cv2.Canny(blurred, 100, 200)\n",
    "\n",
    "window_image = 'image2'\n",
    "cv2.imshow(window_image,image)\n",
    "cv2.waitKey()\n",
    "\n",
    "window_image = 'edges'\n",
    "cv2.imshow(window_image,edges)\n",
    "cv2.waitKey()"
   ]
  },
  {
   "cell_type": "markdown",
   "id": "c7a32c98",
   "metadata": {},
   "source": [
    "## 3) Laplacian operator edge detection algorithm:"
   ]
  },
  {
   "cell_type": "code",
   "execution_count": 6,
   "id": "53baf847",
   "metadata": {},
   "outputs": [
    {
     "data": {
      "text/plain": [
       "-1"
      ]
     },
     "execution_count": 6,
     "metadata": {},
     "output_type": "execute_result"
    }
   ],
   "source": [
    "# Use the Laplacian operator to find the edges\n",
    "lap_edges = cv2.Laplacian(blurred, cv2.CV_64F)\n",
    "\n",
    "# Normalise the edge values to the range [0, 255]\n",
    "lap_edges_normalized = cv2.normalize(lap_edges, None, 0, 255, cv2.NORM_MINMAX, cv2.CV_8U)\n",
    "\n",
    "window_image = 'image3'\n",
    "cv2.imshow(window_image,image)\n",
    "cv2.waitKey()\n",
    "\n",
    "window_image = 'lap_edges_normalized'\n",
    "cv2.imshow(window_image,lap_edges_normalized)\n",
    "cv2.waitKey()"
   ]
  },
  {
   "cell_type": "code",
   "execution_count": 7,
   "id": "c1596230",
   "metadata": {},
   "outputs": [],
   "source": [
    "#press any key to close the windows\n",
    "cv2.destroyAllWindows()"
   ]
  },
  {
   "cell_type": "code",
   "execution_count": null,
   "id": "3049cefb",
   "metadata": {},
   "outputs": [],
   "source": []
  }
 ],
 "metadata": {
  "kernelspec": {
   "display_name": "Python 3 (ipykernel)",
   "language": "python",
   "name": "python3"
  },
  "language_info": {
   "codemirror_mode": {
    "name": "ipython",
    "version": 3
   },
   "file_extension": ".py",
   "mimetype": "text/x-python",
   "name": "python",
   "nbconvert_exporter": "python",
   "pygments_lexer": "ipython3",
   "version": "3.9.7"
  }
 },
 "nbformat": 4,
 "nbformat_minor": 5
}
