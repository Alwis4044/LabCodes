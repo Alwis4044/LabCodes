{
  "nbformat": 4,
  "nbformat_minor": 0,
  "metadata": {
    "colab": {
      "provenance": [],
      "gpuType": "T4"
    },
    "kernelspec": {
      "name": "python3",
      "display_name": "Python 3"
    },
    "language_info": {
      "name": "python"
    },
    "accelerator": "GPU",
    "gpuClass": "standard"
  },
  "cells": [
    {
      "cell_type": "markdown",
      "source": [
        "## Assignment 4A - Vector Addition"
      ],
      "metadata": {
        "id": "_NyvWNt0Vvix"
      }
    },
    {
      "cell_type": "code",
      "source": [
        "!nvcc --version"
      ],
      "metadata": {
        "colab": {
          "base_uri": "https://localhost:8080/"
        },
        "id": "lSL6xfqZS3hh",
        "outputId": "063665c2-b499-442d-d80e-c5297840f083"
      },
      "execution_count": 1,
      "outputs": [
        {
          "output_type": "stream",
          "name": "stdout",
          "text": [
            "nvcc: NVIDIA (R) Cuda compiler driver\n",
            "Copyright (c) 2005-2022 NVIDIA Corporation\n",
            "Built on Wed_Sep_21_10:33:58_PDT_2022\n",
            "Cuda compilation tools, release 11.8, V11.8.89\n",
            "Build cuda_11.8.r11.8/compiler.31833905_0\n"
          ]
        }
      ]
    },
    {
      "cell_type": "code",
      "execution_count": null,
      "metadata": {
        "id": "iQ-2Wa7vSeu8"
      },
      "outputs": [],
      "source": [
        "code = \"\"\"\n",
        "\n",
        "#include <stdio.h>\n",
        "#include <stdlib.h>\n",
        "\n",
        "#define N 1000000\n",
        "\n",
        "__global__ void add(int *a, int *b, int *c) {\n",
        "    int tid = blockIdx.x * blockDim.x + threadIdx.x;\n",
        "    if (tid < N) {\n",
        "        c[tid] = a[tid] + b[tid];\n",
        "    }\n",
        "}\n",
        "\n",
        "int main() {\n",
        "    int *a, *b, *c;\n",
        "    int *d_a, *d_b, *d_c;\n",
        "    int size = N * sizeof(int);\n",
        "\n",
        "    // Allocate memory on host\n",
        "    a = (int*)malloc(size);\n",
        "    b = (int*)malloc(size);\n",
        "    c = (int*)malloc(size);\n",
        "\n",
        "    // Initialize arrays\n",
        "    for (int i = 0; i < N; i++) {\n",
        "        a[i] = i;\n",
        "        b[i] = i * 2;\n",
        "    }\n",
        "\n",
        "    // Allocate memory on device\n",
        "    cudaMalloc(&d_a, size);\n",
        "    cudaMalloc(&d_b, size);\n",
        "    cudaMalloc(&d_c, size);\n",
        "\n",
        "    // Copy data from host to device\n",
        "    cudaMemcpy(d_a, a, size, cudaMemcpyHostToDevice);\n",
        "    cudaMemcpy(d_b, b, size, cudaMemcpyHostToDevice);\n",
        "\n",
        "    // Launch kernel with 1 million threads\n",
        "    add<<<(N + 255) / 256, 256>>>(d_a, d_b, d_c);\n",
        "\n",
        "    // Copy result from device to host\n",
        "    cudaMemcpy(c, d_c, size, cudaMemcpyDeviceToHost);\n",
        "\n",
        "    // Print first and last elements of result\n",
        "    printf(\"c[0]=%d, c[%d] = %d\",c[0],N-1,c[N-1]);\n",
        "\n",
        "    // Free memory\n",
        "    free(a);\n",
        "    free(b);\n",
        "    free(c);\n",
        "    cudaFree(d_a);\n",
        "    cudaFree(d_b);\n",
        "    cudaFree(d_c);\n",
        "\n",
        "    return 0;\n",
        "}\n",
        "\"\"\""
      ]
    },
    {
      "cell_type": "code",
      "source": [
        "text_file = open(\"assign4.cu\",\"w\")\n",
        "text_file.write(code)\n",
        "text_file.close()"
      ],
      "metadata": {
        "id": "3i3GGyhhS_m1"
      },
      "execution_count": null,
      "outputs": []
    },
    {
      "cell_type": "code",
      "source": [
        "!nvcc assign4.cu"
      ],
      "metadata": {
        "id": "YnM4poi6TRC1"
      },
      "execution_count": null,
      "outputs": []
    },
    {
      "cell_type": "code",
      "source": [
        "!./a.out"
      ],
      "metadata": {
        "colab": {
          "base_uri": "https://localhost:8080/"
        },
        "id": "o-t45DImVPRZ",
        "outputId": "9891bb87-591a-4caa-d603-c1694fe9ddfa"
      },
      "execution_count": null,
      "outputs": [
        {
          "output_type": "stream",
          "name": "stdout",
          "text": [
            "c[0]=0, c[999999] = 2999997"
          ]
        }
      ]
    },
    {
      "cell_type": "code",
      "source": [
        "!nvprof ./a.out"
      ],
      "metadata": {
        "colab": {
          "base_uri": "https://localhost:8080/"
        },
        "id": "_zo5qqFDTYm1",
        "outputId": "c6d1c18e-8b92-4414-af37-7fad7743335e"
      },
      "execution_count": null,
      "outputs": [
        {
          "output_type": "stream",
          "name": "stdout",
          "text": [
            "==703== NVPROF is profiling process 703, command: ./a.out\n",
            "==703== Profiling application: ./a.out\n",
            "c[0]=0, c[999999] = 2999997==703== Profiling result:\n",
            "            Type  Time(%)      Time     Calls       Avg       Min       Max  Name\n",
            " GPU activities:   49.67%  1.5313ms         2  765.64us  726.81us  804.47us  [CUDA memcpy HtoD]\n",
            "                   48.79%  1.5040ms         1  1.5040ms  1.5040ms  1.5040ms  [CUDA memcpy DtoH]\n",
            "                    1.54%  47.519us         1  47.519us  47.519us  47.519us  add(int*, int*, int*)\n",
            "      API calls:   94.94%  122.18ms         3  40.726ms  65.240us  122.04ms  cudaMalloc\n",
            "                    3.70%  4.7670ms         3  1.5890ms  948.72us  2.8387ms  cudaMemcpy\n",
            "                    0.78%  1.0041ms         1  1.0041ms  1.0041ms  1.0041ms  cuDeviceGetPCIBusId\n",
            "                    0.43%  555.92us         3  185.31us  145.86us  205.17us  cudaFree\n",
            "                    0.09%  119.83us       101  1.1860us     137ns  51.243us  cuDeviceGetAttribute\n",
            "                    0.02%  28.585us         1  28.585us  28.585us  28.585us  cudaLaunchKernel\n",
            "                    0.02%  27.622us         1  27.622us  27.622us  27.622us  cuDeviceGetName\n",
            "                    0.00%  2.0340us         3     678ns     202ns  1.5370us  cuDeviceGetCount\n",
            "                    0.00%  1.0190us         2     509ns     185ns     834ns  cuDeviceGet\n",
            "                    0.00%     584ns         1     584ns     584ns     584ns  cuModuleGetLoadingMode\n",
            "                    0.00%     472ns         1     472ns     472ns     472ns  cuDeviceTotalMem\n",
            "                    0.00%     308ns         1     308ns     308ns     308ns  cuDeviceGetUuid\n"
          ]
        }
      ]
    },
    {
      "cell_type": "code",
      "source": [],
      "metadata": {
        "id": "cJbYGgkEVL2f"
      },
      "execution_count": null,
      "outputs": []
    }
  ]
}