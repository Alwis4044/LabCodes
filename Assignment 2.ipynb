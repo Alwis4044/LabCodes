{
 "cells": [
  {
   "cell_type": "markdown",
   "id": "d8f6dbe3",
   "metadata": {},
   "source": [
    "\n",
    "# Assignment 2"
   ]
  },
  {
   "cell_type": "markdown",
   "id": "cce74089",
   "metadata": {},
   "source": [
    "## Read any image. Display the outputs of contrast stretching, intensity level slicing."
   ]
  },
  {
   "cell_type": "code",
   "execution_count": 3,
   "id": "6465015e",
   "metadata": {},
   "outputs": [
    {
     "data": {
      "text/plain": [
       "-1"
      ]
     },
     "execution_count": 3,
     "metadata": {},
     "output_type": "execute_result"
    }
   ],
   "source": [
    "import cv2\n",
    "import numpy as np\n",
    "#from google.colab.patches import cv2_imshow\n",
    "\n",
    "image_path = 'nature.png'\n",
    "image = cv2.imread(image_path)\n",
    "window_image = 'image'\n",
    "cv2.imshow(window_image,image)\n",
    "cv2.waitKey()"
   ]
  },
  {
   "cell_type": "markdown",
   "id": "766af814",
   "metadata": {},
   "source": [
    "## Contrast Stretching:"
   ]
  },
  {
   "cell_type": "code",
   "execution_count": 4,
   "id": "50c96a54",
   "metadata": {},
   "outputs": [
    {
     "data": {
      "text/plain": [
       "-1"
      ]
     },
     "execution_count": 4,
     "metadata": {},
     "output_type": "execute_result"
    }
   ],
   "source": [
    "# Split the image into its R, G, and B channels\n",
    "channels = cv2.split(image)\n",
    "# Initialize the stretch factors\n",
    "stretch_factors = []\n",
    "# Calculate the stretch factor for each channel\n",
    "for channel in channels:\n",
    " # Calculate the minimum and maximum values in the channel\n",
    " min_val, max_val, _, _ = cv2.minMaxLoc(channel)\n",
    " # Calculate the stretch factor\n",
    " stretch_min = 0\n",
    " stretch_max = 255\n",
    " stretch_factor_1 = (stretch_max - stretch_min) / (max_val - min_val)\n",
    " stretch_factor_2 = stretch_min - stretch_factor_1 * min_val\n",
    " # Store the stretch factor for this channel\n",
    " stretch_factors.append((stretch_factor_1, stretch_factor_2))\n",
    "# Initialize the stretched image\n",
    "stretched_image = np.zeros_like(image)\n",
    "# Stretch the contrast of each channel\n",
    "for i, channel in enumerate(channels):\n",
    " stretched_channel = cv2.convertScaleAbs(channel, alpha=stretch_factors[i][0], beta=stretch_factors[i][1])\n",
    " stretched_image[:,:,i] = stretched_channel\n",
    "\n",
    "window_image = 'image'\n",
    "cv2.imshow(window_image,image)\n",
    "cv2.waitKey()\n",
    "\n",
    "window_image = 'stretched_image'\n",
    "cv2.imshow(window_image,stretched_image)\n",
    "cv2.waitKey()\n"
   ]
  },
  {
   "cell_type": "markdown",
   "id": "46a00bc4",
   "metadata": {},
   "source": [
    "##  Intensity Level Slicing:"
   ]
  },
  {
   "cell_type": "code",
   "execution_count": 5,
   "id": "12f7cb19",
   "metadata": {},
   "outputs": [
    {
     "data": {
      "text/plain": [
       "-1"
      ]
     },
     "execution_count": 5,
     "metadata": {},
     "output_type": "execute_result"
    }
   ],
   "source": [
    "# Convert the image to grayscale\n",
    "gray = cv2.cvtColor(image, cv2.COLOR_BGR2GRAY)\n",
    "\n",
    "# Set the lower and upper intensity levels\n",
    "lower_level = 100\n",
    "upper_level = 250\n",
    "\n",
    "# Create a mask with the intensity range\n",
    "mask = cv2.inRange(gray, lower_level, upper_level)\n",
    "\n",
    "# Apply the mask to the original image\n",
    "result = cv2.bitwise_and(image, image, mask=mask)\n",
    "\n",
    "window_image = 'gray'\n",
    "cv2.imshow(window_image,gray)\n",
    "cv2.waitKey()\n",
    "\n",
    "window_image = 'result'\n",
    "cv2.imshow(window_image,result)\n",
    "cv2.waitKey()"
   ]
  },
  {
   "cell_type": "code",
   "execution_count": null,
   "id": "6da38a0a",
   "metadata": {},
   "outputs": [],
   "source": [
    "#press any key to close the windows\n",
    "cv2.destroyAllWindows()"
   ]
  },
  {
   "cell_type": "code",
   "execution_count": null,
   "id": "e4296a55",
   "metadata": {},
   "outputs": [],
   "source": []
  }
 ],
 "metadata": {
  "kernelspec": {
   "display_name": "Python 3 (ipykernel)",
   "language": "python",
   "name": "python3"
  },
  "language_info": {
   "codemirror_mode": {
    "name": "ipython",
    "version": 3
   },
   "file_extension": ".py",
   "mimetype": "text/x-python",
   "name": "python",
   "nbconvert_exporter": "python",
   "pygments_lexer": "ipython3",
   "version": "3.9.7"
  }
 },
 "nbformat": 4,
 "nbformat_minor": 5
}
